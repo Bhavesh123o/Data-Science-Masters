{
 "cells": [
  {
   "cell_type": "code",
   "execution_count": null,
   "id": "12826050-cadd-40bc-b191-970325e4e017",
   "metadata": {},
   "outputs": [],
   "source": []
  },
  {
   "cell_type": "code",
   "execution_count": 4,
   "id": "fd420969-b171-4655-b38b-77c9a5e1e7fa",
   "metadata": {},
   "outputs": [
    {
     "name": "stdout",
     "output_type": "stream",
     "text": [
      "enter the product 100\n"
     ]
    },
    {
     "name": "stdout",
     "output_type": "stream",
     "text": [
      "the price is 70.0\n"
     ]
    }
   ],
   "source": [
    "price=int(input(\"enter the product\"))\n",
    "if price>1000:\n",
    "    discount=(price*20/100)\n",
    "    price=price-discount\n",
    "    print(\"the price is {}\".format(price))\n",
    "else:\n",
    "    discount=(price*30/100)\n",
    "    price=price-discount\n",
    "    print(\"the price is {}\".format(price))\n"
   ]
  },
  {
   "cell_type": "code",
   "execution_count": 6,
   "id": "36a0afa7-626d-4129-a33d-62101a98d6ed",
   "metadata": {},
   "outputs": [
    {
     "name": "stdout",
     "output_type": "stream",
     "text": [
      "enter the product 5000\n"
     ]
    },
    {
     "name": "stdout",
     "output_type": "stream",
     "text": [
      "the price is 4000.0\n"
     ]
    }
   ],
   "source": [
    "price=int(input(\"enter the product\"))\n",
    "if price>3000:\n",
    "    price=price-(price*20/100)\n",
    "    print(\"the price is {}\".format(price))\n",
    "elif price>=2000 and price<=3000:\n",
    "    price=price-(price*30/100)\n",
    "    print(\"the price is {}\".format(price))\n",
    "else:\n",
    "    price=price-(price*40/100)\n",
    "    print(\"the price is {}\".format(price))\n",
    "    "
   ]
  },
  {
   "cell_type": "code",
   "execution_count": null,
   "id": "7be738fc-1e25-4bdc-8267-8d28d9a612d0",
   "metadata": {},
   "outputs": [],
   "source": [
    "val=int(input(\"enter the number\"))\n",
    "if(val<999):\n",
    "    print(\"price is less than 999\")\n",
    "else:\n",
    "    print(\"price is greater than 999\")"
   ]
  }
 ],
 "metadata": {
  "kernelspec": {
   "display_name": "Python 3 (ipykernel)",
   "language": "python",
   "name": "python3"
  },
  "language_info": {
   "codemirror_mode": {
    "name": "ipython",
    "version": 3
   },
   "file_extension": ".py",
   "mimetype": "text/x-python",
   "name": "python",
   "nbconvert_exporter": "python",
   "pygments_lexer": "ipython3",
   "version": "3.10.8"
  }
 },
 "nbformat": 4,
 "nbformat_minor": 5
}
